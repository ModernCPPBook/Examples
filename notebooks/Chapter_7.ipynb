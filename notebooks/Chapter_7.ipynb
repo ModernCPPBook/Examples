{
 "cells": [
  {
   "cell_type": "code",
   "execution_count": null,
   "metadata": {},
   "outputs": [],
   "source": [
    "from cling import cling, bash"
   ]
  },
  {
   "cell_type": "markdown",
   "metadata": {},
   "source": [
    "**Listing 7.1**\n",
    "\n",
    "Caption: Examples for a race condition."
   ]
  },
  {
   "cell_type": "code",
   "execution_count": null,
   "metadata": {},
   "outputs": [],
   "source": [
    "%%writefile race_condition.cpp\n",
    "#include <thread>\n",
    "#include <iostream>\n",
    "//-----------------------------------------------------------------\n",
    "double sum = 0;\n",
    "const int sz = 1000000;\n",
    "double* data = new double[sz];\n",
    "\n",
    "void update(int n) {\n",
    "    for(int i=0;i<sz;i++)\n",
    "        sum += data[i];\n",
    "}\n",
    "\n",
    "int main() {\n",
    "    for(int i=0;i<sz;i++) data[i] = 1.0;\n",
    "    std::thread t1(update,1), t2(update,2);\n",
    "    t1.join(); t2.join();\n",
    "    std::cout << \"final sum=\" << sum << std::endl;\n",
    "    return 0;\n",
    "}\n"
   ]
  },
  {
   "cell_type": "code",
   "execution_count": null,
   "metadata": {},
   "outputs": [],
   "source": [
    "%%bash\n",
    "g++ -std=c++20 -I . -o race_condition.exe race_condition.cpp -lpthread\n",
    "./race_condition.exe"
   ]
  },
  {
   "cell_type": "markdown",
   "metadata": {},
   "source": [
    "**Listing 7.2**\n",
    "\n",
    "Caption: Another example for a race condition."
   ]
  },
  {
   "cell_type": "code",
   "execution_count": null,
   "metadata": {},
   "outputs": [],
   "source": [
    "%%writefile race_condition2.cpp\n",
    "#include <thread>\n",
    "#include <iostream>\n",
    "//-----------------------------------------------------------------\n",
    "double sum = 0;\n",
    "const int sz = 40;\n",
    "double* data = new double[sz];\n",
    "\n",
    "void update(int n) {\n",
    "    for(int i=0;i<sz;i++) {\n",
    "        sum += data[i];\n",
    "        std::cout << \"working sum=\" << sum << \" at step=\" << i << std::endl;\n",
    "    }\n",
    "}\n",
    "\n",
    "int main() {\n",
    "    for(int i=0;i<sz;i++) data[i] = 1.0;\n",
    "    std::thread t1(update,1), t2(update,2);\n",
    "    t1.join(); t2.join();\n",
    "    std::cout << \"final sum=\" << sum << std::endl;\n",
    "    return 0;\n",
    "}\n"
   ]
  },
  {
   "cell_type": "code",
   "execution_count": null,
   "metadata": {},
   "outputs": [],
   "source": [
    "%%bash\n",
    "g++ -std=c++20 -I . -o race_condition2.exe race_condition2.cpp -lpthread\n",
    "./race_condition2.exe"
   ]
  },
  {
   "cell_type": "markdown",
   "metadata": {},
   "source": [
    "**Listing 7.3**\n",
    "\n",
    "Caption: Usage of a mutex to avoid the race condition, but execute the code sequential"
   ]
  },
  {
   "cell_type": "code",
   "execution_count": null,
   "metadata": {},
   "outputs": [],
   "source": [
    "%%writefile mutex.cpp\n",
    "#include <thread>\n",
    "#include <iostream>\n",
    "#include <mutex>\n",
    "//-----------------------------------------------------------------\n",
    "double sum = 0;\n",
    "const int sz = 1000000;\n",
    "double* data = new double[sz];\n",
    "\n",
    "std::mutex m;\n",
    "\n",
    "void update(int n) {\n",
    "    for(int i=0;i<sz;i++) {\n",
    "        m.lock();\n",
    "        sum += data[i];\n",
    "        m.unlock();\n",
    "    }\n",
    "}\n",
    "\n",
    "int main() {\n",
    "    for(int i=0;i<sz;i++) data[i] = 1.0;\n",
    "    std::thread t1(update,1), t2(update,2);\n",
    "    t1.join(); t2.join();\n",
    "    std::cout << \"final sum=\" << sum << std::endl;\n",
    "    return 0;\n",
    "}\n"
   ]
  },
  {
   "cell_type": "code",
   "execution_count": null,
   "metadata": {},
   "outputs": [],
   "source": [
    "%%bash\n",
    "g++ -std=c++20 -I . -o mutex.exe mutex.cpp -lpthread\n",
    "./mutex.exe"
   ]
  },
  {
   "cell_type": "markdown",
   "metadata": {},
   "source": [
    "**Listing 7.4**\n",
    "\n",
    "Caption: Improved version of the code using a mutex to avoid the race condition."
   ]
  },
  {
   "cell_type": "code",
   "execution_count": null,
   "metadata": {},
   "outputs": [],
   "source": [
    "%%writefile mutex2.cpp\n",
    "#include <thread>\n",
    "#include <iostream>\n",
    "#include <mutex>\n",
    "//-----------------------------------------------------------------\n",
    "double sum = 0;\n",
    "const int partial_sz = 1000;\n",
    "const int sz = partial_sz*partial_sz;\n",
    "double* data = new double[sz];\n",
    "\n",
    "std::mutex m;\n",
    "\n",
    "void update(int n) {\n",
    "    for(int j=0;j<partial_sz;j++) {\n",
    "        // Do part of the sum on a local variable, partial_sum\n",
    "        double partial_sum = 0;\n",
    "        for(int i=0;i<partial_sz;i++) {\n",
    "            partial_sum += data[i];\n",
    "        }\n",
    "        // update the result using the lock\n",
    "        m.lock();\n",
    "        sum += partial_sum;\n",
    "        m.unlock();\n",
    "    }\n",
    "}\n",
    "\n",
    "int main() {\n",
    "    for(int i=0;i<sz;i++) data[i] = 1.0;\n",
    "    std::thread t1(update,1), t2(update,2);\n",
    "    t1.join(); t2.join();\n",
    "    std::cout << \"final sum=\" << sum << std::endl;\n",
    "    return 0;\n",
    "}\n"
   ]
  },
  {
   "cell_type": "code",
   "execution_count": null,
   "metadata": {},
   "outputs": [],
   "source": [
    "%%bash\n",
    "g++ -std=c++20 -I . -o mutex2.exe mutex2.cpp -lpthread\n",
    "./mutex2.exe"
   ]
  },
  {
   "cell_type": "markdown",
   "metadata": {},
   "source": [
    "**Listing 7.5**\n",
    "\n",
    "Caption: Example for a deadlock where two threads block each other and the program will never terminate."
   ]
  },
  {
   "cell_type": "code",
   "execution_count": null,
   "metadata": {},
   "outputs": [],
   "source": [
    "%%writefile deadlock.cpp\n",
    "#include <thread>\n",
    "#include <mutex>\n",
    "#include <iostream>\n",
    "//-----------------------------------------------------------------\n",
    "int main() {\n",
    "    std::mutex locka, lockb;\n",
    "    std::thread ta([&](){\n",
    "        locka.lock();\n",
    "        std::cout << \"Got lock A\" << std::endl;\n",
    "        lockb.lock();\n",
    "        std::cout << \"Got lock A then B\" << std::endl;\n",
    "        lockb.unlock();\n",
    "        locka.unlock();\n",
    "    });\n",
    "    std::thread tb([&](){\n",
    "        lockb.lock();\n",
    "        std::cout << \"Got lock B\" << std::endl;\n",
    "        locka.lock();\n",
    "        std::cout << \"Got lock B then A\" << std::endl;\n",
    "        locka.unlock();\n",
    "        lockb.unlock();\n",
    "    });\n",
    "    ta.join();\n",
    "    tb.join();\n",
    "    return 0;\n",
    "}\n"
   ]
  },
  {
   "cell_type": "code",
   "execution_count": null,
   "metadata": {},
   "outputs": [],
   "source": [
    "%%bash\n",
    "g++ -std=c++20 -I . -o deadlock.exe deadlock.cpp -lpthread\n",
    "./deadlock.exe"
   ]
  },
  {
   "cell_type": "markdown",
   "metadata": {},
   "source": [
    "**Listing 7.6**\n",
    "\n",
    "Caption: Attempt to avoid the deadlock using a scope\\_lock."
   ]
  },
  {
   "cell_type": "code",
   "execution_count": null,
   "metadata": {},
   "outputs": [],
   "source": [
    "%%writefile scoped_lock.cpp\n",
    "#include <thread>\n",
    "#include <mutex>\n",
    "#include <iostream>\n",
    "//-----------------------------------------------------------------\n",
    "int main() {\n",
    "    std::mutex locka, lockb;\n",
    "    std::thread ta([&](){\n",
    "        std::scoped_lock slock{locka, lockb};\n",
    "        std::cout << \"Got lock A then B\" << std::endl;\n",
    "    });\n",
    "    std::thread tb([&](){\n",
    "        std::scoped_lock slock{lockb, locka};\n",
    "        std::cout << \"Got lock B then A\" << std::endl;\n",
    "    });\n",
    "    ta.join();\n",
    "    tb.join();\n",
    "    return 0;\n",
    "}\n"
   ]
  },
  {
   "cell_type": "code",
   "execution_count": null,
   "metadata": {},
   "outputs": [],
   "source": [
    "%%bash\n",
    "g++ -std=c++20 -I . -o scoped_lock.exe scoped_lock.cpp -lpthread\n",
    "./scoped_lock.exe"
   ]
  },
  {
   "cell_type": "markdown",
   "metadata": {},
   "source": [
    "**Listing 7.7**\n",
    "\n",
    "Caption: Computation of the partial sum using std::atomic."
   ]
  },
  {
   "cell_type": "code",
   "execution_count": null,
   "metadata": {},
   "outputs": [],
   "source": [
    "%%writefile atomic.cpp\n",
    "#include <thread>\n",
    "#include <iostream>\n",
    "#include <atomic>\n",
    "//-----------------------------------------------------------------\n",
    "std::atomic<double> sum = 0;\n",
    "const int partial_sz = 1000;\n",
    "const int sz = partial_sz*partial_sz;\n",
    "double* data = new double[sz];\n",
    "\n",
    "void update(int n) {\n",
    "    for(int j=0;j<partial_sz;j++) {\n",
    "        // Do part of the sum on a local variable, partial_sum\n",
    "        double partial_sum = 0;\n",
    "        for(int i=0;i<partial_sz;i++) {\n",
    "            partial_sum += data[i];\n",
    "        }\n",
    "        while(true) {\n",
    "            double expected = sum.load();\n",
    "            double desired = expected + partial_sum;\n",
    "            // try update, if success break\n",
    "            if(sum.compare_exchange_strong(expected, desired))\n",
    "                break;\n",
    "        }\n",
    "    }\n",
    "}\n",
    "\n",
    "int main() {\n",
    "    for(int i=0;i<sz;i++) data[i] = 1.0;\n",
    "    std::thread t1(update,1), t2(update,2);\n",
    "    t1.join(); t2.join();\n",
    "    std::cout << \"final sum=\" << sum << std::endl;\n",
    "    return 0;\n",
    "}\n"
   ]
  },
  {
   "cell_type": "code",
   "execution_count": null,
   "metadata": {},
   "outputs": [],
   "source": [
    "%%bash\n",
    "g++ -std=c++20 -I . -o atomic.exe atomic.cpp -lpthread\n",
    "./atomic.exe"
   ]
  }
 ],
 "metadata": {
  "kernelspec": {
   "display_name": "Python 3 (ipykernel)",
   "language": "python",
   "name": "python3"
  },
  "language_info": {
   "codemirror_mode": {
    "name": "ipython",
    "version": 3
   },
   "file_extension": ".py",
   "mimetype": "text/x-python",
   "name": "python",
   "nbconvert_exporter": "python",
   "pygments_lexer": "ipython3",
   "version": "3.10.12"
  }
 },
 "nbformat": 4,
 "nbformat_minor": 4
}
