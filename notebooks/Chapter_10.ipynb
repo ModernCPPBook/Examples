{
 "cells": [
  {
   "cell_type": "code",
   "execution_count": null,
   "metadata": {},
   "outputs": [],
   "source": [
    "from cling import cling, bash"
   ]
  },
  {
   "cell_type": "markdown",
   "metadata": {},
   "source": [
    "**Listing 10.1**\n",
    "\n",
    "Caption: Implementation of the Taylor series of the natural logarithm using parallel algorithms."
   ]
  },
  {
   "cell_type": "code",
   "execution_count": null,
   "metadata": {},
   "outputs": [],
   "source": [
    "%%cling\n",
    "#include <vector>\n",
    "#include <cmath>\n",
    "#include <numeric>\n",
    "#include <algorithm>\n",
    "#include <hpx/hpx.hpp>\n",
    "//-----------------------------------------------------------------\n",
    "using hpx::for_each, hpx::execution::par, hpx::reduce;\n",
    "\n",
    "const int n = 400;\n",
    "const double x = 0.1;\n",
    "std::vector<double> parts(n);\n",
    "std::iota(parts.begin(), parts.end(), 1);\n",
    "\n",
    "for_each(par, parts.begin(), parts.end(), [](double& e) { \n",
    "    e = std::pow(-1.0, e + 1) * std::pow(x, e) / (e);\n",
    "});\n",
    "\n",
    "double result = reduce(par, parts.begin(), parts.end(), 0.); \n"
   ]
  },
  {
   "cell_type": "markdown",
   "metadata": {},
   "source": [
    "**Listing 10.2**\n",
    "\n",
    "Caption: Implementation of the Taylor series of the natural logarithm using hpx::experimental::for_loop."
   ]
  },
  {
   "cell_type": "code",
   "execution_count": null,
   "metadata": {},
   "outputs": [],
   "source": [
    "%%cling\n",
    "#include <array>\n",
    "#include <hpx/parallel/algorithm.hpp>\n",
    "//-----------------------------------------------------------------\n",
    "std::array<int, 100000> a;\n",
    "\n",
    "hpx::experimental::for_loop(\n",
    "        hpx::execution::par,\n",
    "        0, a.size(), [&](size_t i) { \n",
    "\ta[i] = i * i ;\n",
    "});\n"
   ]
  },
  {
   "cell_type": "markdown",
   "metadata": {},
   "source": [
    "**Listing 10.3**\n",
    "\n",
    "Caption: Implementation of the Taylor series of the natural logarithm using HPX's parallel algorithms."
   ]
  },
  {
   "cell_type": "code",
   "execution_count": null,
   "metadata": {},
   "outputs": [],
   "source": [
    "%%cling\n",
    "#include <array>\n",
    "#include <cmath>\n",
    "#include <hpx/hpx.hpp>\n",
    "#include <hpx/numeric.hpp>\n",
    "#include <hpx/parallel/algorithm.hpp>\n",
    "//-----------------------------------------------------------------\n",
    "std::array<int, 100000> a;\n",
    "\n",
    "hpx::future<void> f =\n",
    "  hpx::experimental::for_loop(\n",
    "    hpx::execution::par(hpx::execution::task), \n",
    "    0,\n",
    "    a.size(),\n",
    "    [](size_t i) {\n",
    "      a[i] = i * i ;\n",
    "    });\n",
    "\n",
    "// Use the future for synchronization\n",
    "f.then([](auto&& f) { \n",
    "\tstd::cout << hpx::reduce(std::begin(a), std::end(a), 0) << std::endl;\n",
    "});\n"
   ]
  },
  {
   "cell_type": "markdown",
   "metadata": {},
   "source": [
    "**Listing 10.4**\n",
    "\n",
    "Caption: Using SIMD within HPX's parallel algorithms via execution policies."
   ]
  },
  {
   "cell_type": "code",
   "execution_count": null,
   "metadata": {},
   "outputs": [],
   "source": [
    "%%writefile Listing_10_4.cpp\n",
    "#include <array>\n",
    "#include <hpx/hpx.hpp>\n",
    "#include <hpx/hpx_main.hpp>\n",
    "#include <hpx/numeric.hpp>\n",
    "#include <hpx/parallel/algorithm.hpp>\n",
    "#include <hpx/parallel/datapar.hpp>\n",
    "//-----------------------------------------------------------------\n",
    "int main() {\n",
    "  std::array<int, 100000> a;\n",
    "\n",
    "  std::cout << hpx::reduce(hpx::execution::simd, std::begin(a), std::end(a), 0) << std::endl; \n",
    "\n",
    "  std::cout << hpx::reduce(hpx::execution::par_simd, std::begin(a), std::end(a), 0) << std::endl; \n",
    "}\n"
   ]
  },
  {
   "cell_type": "code",
   "execution_count": null,
   "metadata": {},
   "outputs": [],
   "source": [
    "%%bash\n",
    "hpxcxx -I . --exe=Listing_10_4.exe Listing_10_4.cpp\n",
    "hpxrun.py -l 3 -t 1 ./Listing_10_4.exe"
   ]
  },
  {
   "cell_type": "markdown",
   "metadata": {},
   "source": [
    "**Listing 10.5**\n",
    "\n",
    "Caption: Using chunk sizes within HPX's parallel algorithms."
   ]
  },
  {
   "cell_type": "code",
   "execution_count": null,
   "metadata": {},
   "outputs": [],
   "source": [
    "%%cling\n",
    "#include <array>\n",
    "#include <hpx/hpx.hpp>\n",
    "#include <hpx/parallel/algorithm.hpp>\n",
    "//-----------------------------------------------------------------\n",
    "std::array<int, 100000> a;\n",
    "\n",
    "// Static chunk size\n",
    "hpx::execution::static_chunk_size scs(10); \n",
    "hpx::experimental::for_loop(hpx::execution::par.with(scs), 0, a.size(), \n",
    "                [&](size_t i) { a[i] = i * i; });\n",
    "\n",
    "// Dynamic chunk size\n",
    "hpx::execution::dynamic_chunk_size dcs(10); \n",
    "hpx::experimental::for_loop(hpx::execution::par.with(dcs), 0, a.size(),\n",
    "                [&](size_t i) { a[i] = i * i; });\n"
   ]
  },
  {
   "cell_type": "markdown",
   "metadata": {},
   "source": [
    "**Listing 10.6**\n",
    "\n",
    "Caption: Example for the computation of the fractal sets using HPX's parallel algorithms."
   ]
  },
  {
   "cell_type": "code",
   "execution_count": null,
   "metadata": {},
   "outputs": [],
   "source": [
    "%%cling\n",
    "#include <hpx/parallel/algorithm.hpp>\n",
    "\n",
    "#include <pbm.hpp>\n",
    "#include <config.hpp>\n",
    "#include <kernel.hpp>\n",
    "//-----------------------------------------------------------------\n",
    "// Definition of utility\n",
    "PBM pbm = PBM(size_x, size_y);\n",
    "\n",
    "hpx::experimental::for_loop(hpx::execution::par,0,size_x, [&](size_t i) {\n",
    "\n",
    "\n",
    "    complex c =\n",
    "        complex(0, 4) * complex(i, 0) / complex(size_x, 0) - complex(0, 2);\n",
    "\n",
    "    for (size_t j = 0; j < size_y; j++) {\n",
    "      // Get the number of iterations\n",
    "      int value = compute_pixel(c + 4.0 * j / size_y - 2.0);\n",
    "      // Convert the value to RGB color space\n",
    "      std::tuple<size_t, size_t, size_t> color = get_rgb(value);\n",
    "      // Set the pixel color\n",
    "      pbm(i, j) = make_color(std::get<0>(color),\n",
    "                             std::get<1>(color),\n",
    "                             std::get<2>(color));\n",
    "    }\n",
    "  });\n",
    "\n",
    "  // Save the image\n",
    "  pbm.save(\"image_parallel_\" + type + \".pbm\");\n"
   ]
  },
  {
   "cell_type": "markdown",
   "metadata": {},
   "source": [
    "**Listing 10.7**\n",
    "\n",
    "Caption: Example for the computation of the fractal sets using OpenMP."
   ]
  },
  {
   "cell_type": "code",
   "execution_count": null,
   "metadata": {},
   "outputs": [],
   "source": [
    "%%cling\n",
    "#include <chrono>\n",
    "\n",
    "#include <config.hpp>\n",
    "#include <kernel.hpp>\n",
    "#include <pbm.hpp>\n",
    "//-----------------------------------------------------------------\n",
    "// Definition of utility\n",
    "PBM pbm = PBM(size_x, size_y);\n",
    "\n",
    "#pragma omp parallel for\n",
    "  for (size_t i = 0; i < size_x; i++) {\n",
    "    complex c =\n",
    "        complex(0, 4) * complex(i, 0) / complex(size_x, 0) - complex(0, 2);\n",
    "\n",
    "    for (size_t j = 0; j < size_y; j++) {\n",
    "      // Get the number of iterations\n",
    "      int value = compute_pixel(c + 4.0 * j / size_y - 2.0);\n",
    "      // Convert the smoothened value to RGB color space\n",
    "      std::tuple<size_t, size_t, size_t> color = get_rgb(value);\n",
    "      // Set the pixel color\n",
    "      pbm(i, j) = make_color(std::get<0>(color), std::get<1>(color),\n",
    "                             std::get<2>(color));\n",
    "    }\n",
    "  }\n",
    "\n",
    "// Save the image\n",
    "pbm.save(\"image_parallel_\" + type + \".pbm\");\n"
   ]
  }
 ],
 "metadata": {
  "kernelspec": {
   "display_name": "Python 3 (ipykernel)",
   "language": "python",
   "name": "python3"
  },
  "language_info": {
   "codemirror_mode": {
    "name": "ipython",
    "version": 3
   },
   "file_extension": ".py",
   "mimetype": "text/x-python",
   "name": "python",
   "nbconvert_exporter": "python",
   "pygments_lexer": "ipython3",
   "version": "3.10.12"
  }
 },
 "nbformat": 4,
 "nbformat_minor": 4
}
